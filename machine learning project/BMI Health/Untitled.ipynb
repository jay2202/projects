{
 "cells": [
  {
   "cell_type": "code",
   "execution_count": 1,
   "metadata": {},
   "outputs": [],
   "source": [
    "from sklearn import tree\n",
    "from sklearn.svm import SVC\n",
    "from sklearn.neighbors import KNeighborsClassifier\n",
    "from sklearn.metrics import accuracy_score\n",
    "from sklearn.naive_bayes import GaussianNB\n",
    "import numpy as np\n",
    "from sklearn.model_selection import train_test_split\n",
    "import pandas as pd\n",
    "\n",
    "df=pd.read_csv('datasets.csv')\n",
    "\n",
    "df.head()\n",
    "dd=pd.DataFrame({'Gender':['Male','Female'],'Sex':[1,0]})\n",
    "df=pd.merge(df,dd)\n",
    "df=df.drop(['Gender'],axis=1)\n",
    "df['Height']=df['Height'].astype(float)\n",
    "df['Weight']=df['Weight'].astype(float)\n",
    "xtrain,xtest,ytrain,ytest=train_test_split(df.drop(['Index'],axis=1),df['Index'])"
   ]
  },
  {
   "cell_type": "code",
   "execution_count": 2,
   "metadata": {},
   "outputs": [
    {
     "name": "stdout",
     "output_type": "stream",
     "text": [
      "Accuracy for DecisionTree: 84.0\n",
      "Accuracy for SVM: 82.39999999999999\n",
      "Accuracy for KNN: 90.4\n",
      "Accuracy for GaussianNB: 80.0\n",
      "Best gender classifier is KNN\n"
     ]
    }
   ],
   "source": [
    "\n",
    "# Classifiers\n",
    "clf_tree = tree.DecisionTreeClassifier()\n",
    "clf_svm = SVC()\n",
    "clf_KNN = KNeighborsClassifier()\n",
    "clf_gaussian = GaussianNB()\n",
    "\n",
    "# Train the models\n",
    "clf_tree.fit(xtrain, ytrain)\n",
    "clf_svm.fit(xtrain, ytrain)\n",
    "clf_KNN.fit(xtrain, ytrain)\n",
    "clf_gaussian.fit(xtrain, ytrain)\n",
    "\n",
    "# Testing using the same data\n",
    "pred_tree = clf_tree.predict(xtest)\n",
    "acc_tree = accuracy_score(ytest, pred_tree) * 100\n",
    "print('Accuracy for DecisionTree: {}'.format(acc_tree))\n",
    "\n",
    "pred_svm = clf_svm.predict(xtest)\n",
    "acc_svm = accuracy_score(ytest, pred_svm) * 100\n",
    "print('Accuracy for SVM: {}'.format(acc_svm))\n",
    "\n",
    "pred_KNN = clf_KNN.predict(xtest)\n",
    "acc_KNN = accuracy_score(ytest, pred_KNN) * 100\n",
    "print('Accuracy for KNN: {}'.format(acc_KNN))\n",
    "\n",
    "pred_gauss = clf_gaussian.predict(xtest)\n",
    "acc_gauss = accuracy_score(ytest, pred_gauss) * 100\n",
    "print('Accuracy for GaussianNB: {}'.format(acc_gauss))\n",
    "\n",
    "# The best classifier from svm, per, KNN\n",
    "index = np.argmax([acc_tree,acc_svm, acc_KNN, acc_gauss])\n",
    "classifiers = {0: 'Tree',1: 'SVM', 2: 'KNN', 3: 'GaussianNB'}\n",
    "print('Best gender classifier is {}'.format(classifiers[index]))"
   ]
  },
  {
   "cell_type": "code",
   "execution_count": 3,
   "metadata": {},
   "outputs": [],
   "source": [
    "def calc(p):\n",
    "    i=clf_gaussian.predict(p)\n",
    "    clas={0:'Extremely Weak',1:'Weak',2:'Normal',3:'Overweight',4:'Obesity',5:'Extreme Obesity'}\n",
    "    print(clas[i[0]])"
   ]
  },
  {
   "cell_type": "code",
   "execution_count": 4,
   "metadata": {},
   "outputs": [
    {
     "ename": "SyntaxError",
     "evalue": "invalid syntax (<ipython-input-4-600ee495d1fa>, line 2)",
     "output_type": "error",
     "traceback": [
      "\u001b[0;36m  File \u001b[0;32m\"<ipython-input-4-600ee495d1fa>\"\u001b[0;36m, line \u001b[0;32m2\u001b[0m\n\u001b[0;31m    gender=\u001b[0m\n\u001b[0m           ^\u001b[0m\n\u001b[0;31mSyntaxError\u001b[0m\u001b[0;31m:\u001b[0m invalid syntax\n"
     ]
    }
   ],
   "source": [
    "#1-Male,0-Female\n",
    "gender=\n",
    "#Height in cm\n",
    "height=\n",
    "#weight in Kg\n",
    "weight=\n",
    "p=pd.DataFrame({'Height':[height],'Weight':[weight],'Sex':[gender]})\n",
    "calc(p)\n",
    "print(p)"
   ]
  }
 ],
 "metadata": {
  "kernelspec": {
   "display_name": "Python 3",
   "language": "python",
   "name": "python3"
  }
 },
 "nbformat": 4,
 "nbformat_minor": 4
}
