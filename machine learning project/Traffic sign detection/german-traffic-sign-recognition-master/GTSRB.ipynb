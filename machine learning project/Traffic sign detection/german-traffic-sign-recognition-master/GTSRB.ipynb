{
 "cells": [
  {
   "cell_type": "markdown",
   "metadata": {
    "colab_type": "text",
    "id": "01mcSKau-il0"
   },
   "source": [
    "# **Training Part**"
   ]
  },
  {
   "cell_type": "code",
   "execution_count": 1,
   "metadata": {
    "colab": {
     "base_uri": "https://localhost:8080/",
     "height": 50
    },
    "colab_type": "code",
    "id": "BKBqYm9QEYt9",
    "outputId": "29428e07-5b9c-4920-b075-105f5fbd7973"
   },
   "outputs": [
    {
     "name": "stdout",
     "output_type": "stream",
     "text": [
      "Tensorflow Version Should be 2.1:  2.3.1\n",
      "Keras Version:  2.4.0\n"
     ]
    }
   ],
   "source": [
    "import os\n",
    "import cv2\n",
    "# Pillow module to import images,numpy and pandas for csv files\n",
    "from PIL import Image\n",
    "\n",
    "import numpy as np\n",
    "import pandas as pd\n",
    "\n",
    "import random\n",
    "\n",
    "from __future__ import absolute_import, division, print_function, unicode_literals\n",
    "import tensorflow as tf\n",
    "import tensorflow.keras as keras\n",
    "print(\"Tensorflow Version Should be 2.1: \", tf.__version__)\n",
    "print(\"Keras Version: \", keras.__version__)\n",
    "\n",
    "# Build neural network \n",
    "from tensorflow.keras.layers import Flatten, Conv2D, MaxPooling2D, Dropout, Dense\n",
    "\n",
    "from tensorflow.keras.utils import to_categorical\n",
    "\n",
    "from sklearn.model_selection import train_test_split"
   ]
  },
  {
   "cell_type": "code",
   "execution_count": 2,
   "metadata": {
    "colab": {
     "base_uri": "https://localhost:8080/",
     "height": 736
    },
    "colab_type": "code",
    "id": "fekiajXi-rqx",
    "outputId": "13a39527-4176-4367-cd52-bd3fcd0b3079"
   },
   "outputs": [],
   "source": [
    "# Reading the input images and putting them into a numpy array\n",
    "data=[]\n",
    "labels=[]\n",
    "\n",
    "#  restrincting image size to 30x30\n",
    "height = 30\n",
    "width = 30\n",
    "# RGB channl\n",
    "channels = 3\n",
    "# no of classes\n",
    "num_classes = 43\n",
    "\n",
    "# neural network input \n",
    "n_inputs = height * width*channels\n",
    "\n",
    "\n",
    "for i in range(num_classes) :\n",
    "    path = \"./gtsrb-dataset/Train/{}/\".format(i)\n",
    "    Class=os.listdir(path)\n",
    "    \n",
    "    for a in Class:\n",
    "        try:\n",
    "            image=cv2.imread(path+a) # reading images in ith file.\n",
    "            image_from_array = Image.fromarray(image, 'RGB')  \n",
    "            size_image = image_from_array.resize((height, width))\n",
    "            \n",
    "            data.append(np.array(size_image))\n",
    "            labels.append(i)\n",
    "        except AttributeError:\n",
    "            print(\"Error! goruntuyu alamadik.\")\n",
    "            \n",
    "x_train=np.array(data)\n",
    "x_train= x_train/255.0\n",
    "\n",
    "y_train=np.array(labels)\n",
    "# from tensorflow.keras.utils import to_categorical\n",
    "y_train = to_categorical(y_train, num_classes) # Using one hot encoding"
   ]
  },
  {
   "cell_type": "code",
   "execution_count": 3,
   "metadata": {
    "colab": {
     "base_uri": "https://localhost:8080/",
     "height": 50
    },
    "colab_type": "code",
    "id": "hd4fCNzIBpFv",
    "outputId": "67500448-6ae1-4b9c-da7b-96017cbda371"
   },
   "outputs": [
    {
     "name": "stdout",
     "output_type": "stream",
     "text": [
      "Train : (27446, 30, 30, 3)\n",
      "Valid : (11763, 30, 30, 3)\n"
     ]
    }
   ],
   "source": [
    "#split data in train and valid\n",
    "X_train,X_valid,Y_train,Y_valid = train_test_split(x_train,y_train,test_size = 0.3,random_state=0) # X_valid = X_test olarak dusunebiliriz\n",
    "print(\"Train :\", X_train.shape)\n",
    "print(\"Valid :\", X_valid.shape)"
   ]
  },
  {
   "cell_type": "code",
   "execution_count": 4,
   "metadata": {
    "colab": {
     "base_uri": "https://localhost:8080/",
     "height": 877
    },
    "colab_type": "code",
    "id": "mXDnmSDAB7hF",
    "outputId": "756f3642-99fd-4947-f7d6-2f8171d34db8"
   },
   "outputs": [
    {
     "name": "stdout",
     "output_type": "stream",
     "text": [
      "Train images\n"
     ]
    },
    {
     "data": {
      "image/png": "[encoded data removed]",
      "text/plain": [
       "<Figure size 432x288 with 1 Axes>"
      ]
     },
     "metadata": {
      "needs_background": "light"
     },
     "output_type": "display_data"
    },
    {
     "name": "stdout",
     "output_type": "stream",
     "text": [
      "Size of this image is (30, 30, 3)\n",
      "Class of the image is [0. 0. 0. 0. 0. 0. 0. 0. 0. 0. 0. 0. 1. 0. 0. 0. 0. 0. 0. 0. 0. 0. 0. 0.\n",
      " 0. 0. 0. 0. 0. 0. 0. 0. 0. 0. 0. 0. 0. 0. 0. 0. 0. 0. 0.]\n"
     ]
    },
    {
     "data": {
      "image/png": "[encoded data removed]",
      "text/plain": [
       "<Figure size 432x288 with 1 Axes>"
      ]
     },
     "metadata": {
      "needs_background": "light"
     },
     "output_type": "display_data"
    },
    {
     "name": "stdout",
     "output_type": "stream",
     "text": [
      "Size of this image is (30, 30, 3)\n",
      "Class of the image is [0. 0. 0. 0. 0. 0. 0. 0. 0. 0. 0. 0. 0. 0. 0. 0. 0. 0. 0. 0. 0. 0. 0. 0.\n",
      " 0. 1. 0. 0. 0. 0. 0. 0. 0. 0. 0. 0. 0. 0. 0. 0. 0. 0. 0.]\n"
     ]
    },
    {
     "data": {
      "image/png": "[encoded data removed]",
      "text/plain": [
       "<Figure size 432x288 with 1 Axes>"
      ]
     },
     "metadata": {
      "needs_background": "light"
     },
     "output_type": "display_data"
    },
    {
     "name": "stdout",
     "output_type": "stream",
     "text": [
      "Size of this image is (30, 30, 3)\n",
      "Class of the image is [0. 0. 1. 0. 0. 0. 0. 0. 0. 0. 0. 0. 0. 0. 0. 0. 0. 0. 0. 0. 0. 0. 0. 0.\n",
      " 0. 0. 0. 0. 0. 0. 0. 0. 0. 0. 0. 0. 0. 0. 0. 0. 0. 0. 0.]\n"
     ]
    }
   ],
   "source": [
    "# Show Train images \n",
    "import matplotlib.pyplot as plt\n",
    "\n",
    "def show_images(images, labels, amount):\n",
    "    for i in range(amount):\n",
    "        index = int(random.random() * len(images))\n",
    "        plt.axis('off')\n",
    "        plt.imshow(images[index])\n",
    "        plt.show()       \n",
    "        print(\"Size of this image is \" + str(images[index].shape))\n",
    "        print(\"Class of the image is \" + str(labels[index]))\n",
    "\n",
    "print(\"Train images\")\n",
    "show_images(X_train, Y_train, 3)"
   ]
  },
  {
   "cell_type": "code",
   "execution_count": 5,
   "metadata": {
    "colab": {
     "base_uri": "https://localhost:8080/",
     "height": 552
    },
    "colab_type": "code",
    "id": "JtO4BKB_B-PF",
    "outputId": "10eed7b1-66d7-4abf-f637-1b0e949e5ccd"
   },
   "outputs": [
    {
     "name": "stdout",
     "output_type": "stream",
     "text": [
      "Model: \"sequential\"\n",
      "_________________________________________________________________\n",
      "Layer (type)                 Output Shape              Param #   \n",
      "=================================================================\n",
      "conv2d (Conv2D)              (None, 30, 30, 32)        896       \n",
      "_________________________________________________________________\n",
      "conv2d_1 (Conv2D)            (None, 30, 30, 32)        9248      \n",
      "_________________________________________________________________\n",
      "max_pooling2d (MaxPooling2D) (None, 15, 15, 32)        0         \n",
      "_________________________________________________________________\n",
      "dropout (Dropout)            (None, 15, 15, 32)        0         \n",
      "_________________________________________________________________\n",
      "conv2d_2 (Conv2D)            (None, 15, 15, 64)        18496     \n",
      "_________________________________________________________________\n",
      "conv2d_3 (Conv2D)            (None, 15, 15, 64)        36928     \n",
      "_________________________________________________________________\n",
      "max_pooling2d_1 (MaxPooling2 (None, 7, 7, 64)          0         \n",
      "_________________________________________________________________\n",
      "dropout_1 (Dropout)          (None, 7, 7, 64)          0         \n",
      "_________________________________________________________________\n",
      "flatten (Flatten)            (None, 3136)              0         \n",
      "_________________________________________________________________\n",
      "dense (Dense)                (None, 256)               803072    \n",
      "_________________________________________________________________\n",
      "dropout_2 (Dropout)          (None, 256)               0         \n",
      "_________________________________________________________________\n",
      "dense_1 (Dense)              (None, 43)                11051     \n",
      "=================================================================\n",
      "Total params: 879,691\n",
      "Trainable params: 879,691\n",
      "Non-trainable params: 0\n",
      "_________________________________________________________________\n"
     ]
    }
   ],
   "source": [
    "# Build Model\n",
    "model = keras.models.Sequential()\n",
    "\n",
    "model.add(Conv2D(32, kernel_size=(3,3), padding='same', activation='relu', input_shape=X_train.shape[1:])) # input layer + convolution layer\n",
    "model.add(Conv2D(32, kernel_size=(3,3), padding='same', activation='relu'))\n",
    "model.add(MaxPooling2D(pool_size=(2, 2)))\n",
    "model.add(Dropout(rate=0.25))\n",
    "\n",
    "model.add(Conv2D(64, kernel_size=(3, 3), padding='same', activation='relu'))\n",
    "model.add(Conv2D(64, kernel_size=(3, 3), padding='same', activation='relu'))\n",
    "model.add(MaxPooling2D(pool_size=(2, 2)))\n",
    "model.add(Dropout(rate=0.25))\n",
    "\n",
    "model.add(Flatten())\n",
    "model.add(Dense(256, activation='relu'))\n",
    "model.add(Dropout(rate=0.5))\n",
    "model.add(Dense(num_classes, activation='softmax')) # class'i belirleyen layer\n",
    "\n",
    "model.summary() # ???"
   ]
  },
  {
   "cell_type": "code",
   "execution_count": 6,
   "metadata": {
    "colab": {},
    "colab_type": "code",
    "id": "9ZAx-K7TCCGl"
   },
   "outputs": [],
   "source": [
    "# Compile Model\n",
    "model.compile(loss='categorical_crossentropy', optimizer='adam', metrics=['accuracy'])"
   ]
  },
  {
   "cell_type": "code",
   "execution_count": 7,
   "metadata": {
    "colab": {
     "base_uri": "https://localhost:8080/",
     "height": 436
    },
    "colab_type": "code",
    "id": "rLhpDglCCEWN",
    "outputId": "58215e1b-dd5c-48c0-e69e-f370ad7fe0ef"
   },
   "outputs": [
    {
     "name": "stdout",
     "output_type": "stream",
     "text": [
      "Epoch 1/10\n",
      "858/858 [==============================] - 111s 130ms/step - loss: 1.8503 - accuracy: 0.4780 - val_loss: 0.2421 - val_accuracy: 0.9456\n",
      "Epoch 2/10\n",
      "858/858 [==============================] - 110s 128ms/step - loss: 0.3032 - accuracy: 0.9046 - val_loss: 0.0637 - val_accuracy: 0.9817\n",
      "Epoch 3/10\n",
      "858/858 [==============================] - 109s 127ms/step - loss: 0.1518 - accuracy: 0.9523 - val_loss: 0.0287 - val_accuracy: 0.9931\n",
      "Epoch 4/10\n",
      "858/858 [==============================] - 109s 127ms/step - loss: 0.1080 - accuracy: 0.9672 - val_loss: 0.0195 - val_accuracy: 0.9959\n",
      "Epoch 5/10\n",
      "858/858 [==============================] - 274s 319ms/step - loss: 0.0825 - accuracy: 0.9741 - val_loss: 0.0253 - val_accuracy: 0.9932\n",
      "Epoch 6/10\n",
      "858/858 [==============================] - 92s 108ms/step - loss: 0.0735 - accuracy: 0.9773 - val_loss: 0.0197 - val_accuracy: 0.9957\n",
      "Epoch 7/10\n",
      "858/858 [==============================] - 110s 128ms/step - loss: 0.0636 - accuracy: 0.9813 - val_loss: 0.0205 - val_accuracy: 0.9957\n",
      "Epoch 8/10\n",
      "858/858 [==============================] - 109s 127ms/step - loss: 0.0532 - accuracy: 0.9840 - val_loss: 0.0149 - val_accuracy: 0.9968\n",
      "Epoch 9/10\n",
      "858/858 [==============================] - 109s 127ms/step - loss: 0.0506 - accuracy: 0.9842 - val_loss: 0.0164 - val_accuracy: 0.9963\n",
      "Epoch 10/10\n",
      "858/858 [==============================] - 108s 126ms/step - loss: 0.0477 - accuracy: 0.9851 - val_loss: 0.0147 - val_accuracy: 0.9970\n"
     ]
    }
   ],
   "source": [
    "# Train Model\n",
    "epochs = 10\n",
    "history = model.fit(X_train, Y_train, validation_data=(X_valid, Y_valid), batch_size=32, epochs=epochs,verbose=1)"
   ]
  },
  {
   "cell_type": "code",
   "execution_count": 8,
   "metadata": {
    "colab": {},
    "colab_type": "code",
    "id": "7QYD4LslCGDW"
   },
   "outputs": [
    {
     "data": {
      "text/plain": [
       "<matplotlib.legend.Legend at 0x18f854fe070>"
      ]
     },
     "execution_count": 8,
     "metadata": {},
     "output_type": "execute_result"
    },
    {
     "data": {
      "image/png": "[encoded data removed]",
      "text/plain": [
       "<Figure size 432x288 with 1 Axes>"
      ]
     },
     "metadata": {
      "needs_background": "light"
     },
     "output_type": "display_data"
    },
    {
     "data": {
      "image/png": "[encoded data removed]",
      "text/plain": [
       "<Figure size 432x288 with 1 Axes>"
      ]
     },
     "metadata": {
      "needs_background": "light"
     },
     "output_type": "display_data"
    }
   ],
   "source": [
    "# plot the accuracy and the loss\n",
    "import matplotlib.pyplot as plt\n",
    "\n",
    "plt.figure(0)\n",
    "plt.plot(history.history['accuracy'], label='training accuracy')\n",
    "plt.plot(history.history['val_accuracy'], label='val accuracy')\n",
    "plt.title('Accuracy')\n",
    "plt.xlabel('epochs')\n",
    "plt.ylabel('accuracy')\n",
    "plt.legend()\n",
    "\n",
    "plt.figure(1)\n",
    "plt.plot(history.history['loss'], label='training loss')\n",
    "plt.plot(history.history['val_loss'], label='val loss')\n",
    "plt.title('Loss')\n",
    "plt.xlabel('epochs')\n",
    "plt.ylabel('loss')\n",
    "plt.legend()"
   ]
  },
  {
   "cell_type": "code",
   "execution_count": 9,
   "metadata": {
    "colab": {},
    "colab_type": "code",
    "id": "CGUpEmMmCKAP"
   },
   "outputs": [
    {
     "name": "stdout",
     "output_type": "stream",
     "text": [
      "WARNING:tensorflow:From <ipython-input-9-88761addc1e6>:16: Sequential.predict_classes (from tensorflow.python.keras.engine.sequential) is deprecated and will be removed after 2021-01-01.\n",
      "Instructions for updating:\n",
      "Please use instead:* `np.argmax(model.predict(x), axis=-1)`,   if your model does multi-class classification   (e.g. if it uses a `softmax` last-layer activation).* `(model.predict(x) > 0.5).astype(\"int32\")`,   if your model does binary classification   (e.g. if it uses a `sigmoid` last-layer activation).\n"
     ]
    }
   ],
   "source": [
    "# Predicting Test data \n",
    "y_test=pd.read_csv(\"./gtsrb-dataset/Test.csv\")\n",
    "labels=y_test['Path'].values\n",
    "y_test=y_test['ClassId'].values\n",
    "\n",
    "data=[]\n",
    "\n",
    "for f in labels:\n",
    "    image=cv2.imread(\"./gtsrb-dataset/\"+f)\n",
    "    image_from_array = Image.fromarray(image, 'RGB')\n",
    "    size_image = image_from_array.resize((height, width))\n",
    "    data.append(np.array(size_image))\n",
    "\n",
    "X_test=np.array(data)\n",
    "X_test = X_test.astype('float32')/255  \n",
    "pred = model.predict_classes(X_test)"
   ]
  },
  {
   "cell_type": "code",
   "execution_count": 10,
   "metadata": {
    "colab": {},
    "colab_type": "code",
    "id": "BvOomJHhCOAV"
   },
   "outputs": [
    {
     "data": {
      "text/plain": [
       "0.9735550277117974"
      ]
     },
     "execution_count": 10,
     "metadata": {},
     "output_type": "execute_result"
    }
   ],
   "source": [
    "# Accuracy with the test data\n",
    "from sklearn.metrics import accuracy_score\n",
    "accuracy_score(y_test, pred)"
   ]
  },
  {
   "cell_type": "code",
   "execution_count": 11,
   "metadata": {
    "colab": {},
    "colab_type": "code",
    "id": "72N3JmrbCS7T"
   },
   "outputs": [
    {
     "name": "stdout",
     "output_type": "stream",
     "text": [
      "pred:  [16  1 38 ... 32  7 10]  Type:  <class 'numpy.ndarray'>  shape:  (12630,)\n"
     ]
    }
   ],
   "source": [
    "print(\"pred: \", pred, \" Type: \", type(pred), \" shape: \", pred.shape)"
   ]
  },
  {
   "cell_type": "code",
   "execution_count": 12,
   "metadata": {
    "colab": {},
    "colab_type": "code",
    "id": "4h9G5V5WCU8C"
   },
   "outputs": [
    {
     "name": "stdout",
     "output_type": "stream",
     "text": [
      "X_test:  [[[[0.6862745  0.54901963 0.45490196]\n",
      "   [0.67058825 0.5411765  0.45490196]\n",
      "   [0.6784314  0.5411765  0.46666667]\n",
      "   ...\n",
      "   [0.5882353  0.46666667 0.4       ]\n",
      "   [0.58431375 0.47843137 0.39607844]\n",
      "   [0.54509807 0.4392157  0.3647059 ]]\n",
      "\n",
      "  [[0.69411767 0.5568628  0.45490196]\n",
      "   [0.6862745  0.5529412  0.45490196]\n",
      "   [0.68235296 0.5529412  0.45882353]\n",
      "   ...\n",
      "   [0.69803923 0.56078434 0.47058824]\n",
      "   [0.6901961  0.5647059  0.47843137]\n",
      "   [0.68235296 0.5568628  0.47843137]]\n",
      "\n",
      "  [[0.68235296 0.5568628  0.4627451 ]\n",
      "   [0.6862745  0.5529412  0.45490196]\n",
      "   [0.6745098  0.54901963 0.44705883]\n",
      "   ...\n",
      "   [0.70980394 0.5647059  0.4745098 ]\n",
      "   [0.7058824  0.5647059  0.47843137]\n",
      "   [0.69803923 0.5568628  0.46666667]]\n",
      "\n",
      "  ...\n",
      "\n",
      "  [[0.65882355 0.5372549  0.45882353]\n",
      "   [0.64705884 0.5294118  0.4509804 ]\n",
      "   [0.6431373  0.5294118  0.45490196]\n",
      "   ...\n",
      "   [0.6666667  0.5411765  0.45490196]\n",
      "   [0.65882355 0.53333336 0.45490196]\n",
      "   [0.67058825 0.54509807 0.4627451 ]]\n",
      "\n",
      "  [[0.6509804  0.53333336 0.45490196]\n",
      "   [0.654902   0.5254902  0.4509804 ]\n",
      "   [0.64705884 0.52156866 0.4509804 ]\n",
      "   ...\n",
      "   [0.65882355 0.5294118  0.44705883]\n",
      "   [0.6509804  0.53333336 0.45490196]\n",
      "   [0.654902   0.54509807 0.4509804 ]]\n",
      "\n",
      "  [[0.6509804  0.5294118  0.4392157 ]\n",
      "   [0.64705884 0.5254902  0.43529412]\n",
      "   [0.6509804  0.5294118  0.46666667]\n",
      "   ...\n",
      "   [0.6509804  0.5372549  0.4509804 ]\n",
      "   [0.654902   0.5411765  0.45882353]\n",
      "   [0.6666667  0.54901963 0.44705883]]]\n",
      "\n",
      "\n",
      " [[[0.23921569 0.28235295 0.24313726]\n",
      "   [0.24705882 0.31764707 0.34901962]\n",
      "   [0.25490198 0.32156864 0.36862746]\n",
      "   ...\n",
      "   [0.26666668 0.2509804  0.30588236]\n",
      "   [0.2627451  0.25490198 0.28235295]\n",
      "   [0.26666668 0.26666668 0.2901961 ]]\n",
      "\n",
      "  [[0.23529412 0.28235295 0.2509804 ]\n",
      "   [0.25490198 0.3254902  0.38039216]\n",
      "   [0.24705882 0.31764707 0.38039216]\n",
      "   ...\n",
      "   [0.25490198 0.24705882 0.29411766]\n",
      "   [0.2784314  0.27058825 0.3647059 ]\n",
      "   [0.26666668 0.26666668 0.34509805]]\n",
      "\n",
      "  [[0.23529412 0.2784314  0.23137255]\n",
      "   [0.25882354 0.3254902  0.35686275]\n",
      "   [0.24705882 0.31764707 0.37254903]\n",
      "   ...\n",
      "   [0.24705882 0.24705882 0.26666668]\n",
      "   [0.26666668 0.2627451  0.29803923]\n",
      "   [0.27450982 0.27058825 0.30588236]]\n",
      "\n",
      "  ...\n",
      "\n",
      "  [[0.18039216 0.2        0.20392157]\n",
      "   [0.22745098 0.27058825 0.31764707]\n",
      "   [0.22352941 0.2627451  0.3137255 ]\n",
      "   ...\n",
      "   [0.24705882 0.24705882 0.27450982]\n",
      "   [0.25882354 0.2627451  0.3254902 ]\n",
      "   [0.2627451  0.25882354 0.30588236]]\n",
      "\n",
      "  [[0.1882353  0.19607843 0.20784314]\n",
      "   [0.24313726 0.2627451  0.3137255 ]\n",
      "   [0.23137255 0.25490198 0.30588236]\n",
      "   ...\n",
      "   [0.23921569 0.23137255 0.23137255]\n",
      "   [0.2509804  0.25490198 0.2627451 ]\n",
      "   [0.25882354 0.25882354 0.28235295]]\n",
      "\n",
      "  [[0.1882353  0.19215687 0.21176471]\n",
      "   [0.24313726 0.25882354 0.3137255 ]\n",
      "   [0.22745098 0.25882354 0.30588236]\n",
      "   ...\n",
      "   [0.23921569 0.22745098 0.24313726]\n",
      "   [0.27058825 0.25882354 0.28235295]\n",
      "   [0.27450982 0.27450982 0.29411766]]]\n",
      "\n",
      "\n",
      " [[[0.14901961 0.15686275 0.20392157]\n",
      "   [0.14509805 0.15294118 0.2       ]\n",
      "   [0.14509805 0.14901961 0.19607843]\n",
      "   ...\n",
      "   [0.18431373 0.17254902 0.20392157]\n",
      "   [0.1882353  0.1764706  0.21176471]\n",
      "   [0.1882353  0.18039216 0.21568628]]\n",
      "\n",
      "  [[0.16470589 0.1764706  0.23529412]\n",
      "   [0.16078432 0.1764706  0.23137255]\n",
      "   [0.15686275 0.17254902 0.22352941]\n",
      "   ...\n",
      "   [0.15686275 0.16078432 0.2       ]\n",
      "   [0.16862746 0.16470589 0.20784314]\n",
      "   [0.16862746 0.17254902 0.21176471]]\n",
      "\n",
      "  [[0.18039216 0.19607843 0.26666668]\n",
      "   [0.18039216 0.2        0.25882354]\n",
      "   [0.18039216 0.19607843 0.26666668]\n",
      "   ...\n",
      "   [0.15686275 0.17254902 0.23137255]\n",
      "   [0.15686275 0.16862746 0.22352941]\n",
      "   [0.16078432 0.17254902 0.22352941]]\n",
      "\n",
      "  ...\n",
      "\n",
      "  [[0.09803922 0.09019608 0.10588235]\n",
      "   [0.10588235 0.09803922 0.10980392]\n",
      "   [0.11372549 0.10196079 0.10980392]\n",
      "   ...\n",
      "   [0.09019608 0.08627451 0.09803922]\n",
      "   [0.09019608 0.09411765 0.10196079]\n",
      "   [0.09803922 0.09803922 0.10588235]]\n",
      "\n",
      "  [[0.11372549 0.10980392 0.12156863]\n",
      "   [0.12941177 0.12156863 0.14117648]\n",
      "   [0.14509805 0.13725491 0.15686275]\n",
      "   ...\n",
      "   [0.10980392 0.12156863 0.12941177]\n",
      "   [0.13725491 0.14509805 0.14901961]\n",
      "   [0.16470589 0.16470589 0.17254902]]\n",
      "\n",
      "  [[0.12156863 0.11764706 0.12941177]\n",
      "   [0.11372549 0.11372549 0.13725491]\n",
      "   [0.13333334 0.14117648 0.18431373]\n",
      "   ...\n",
      "   [0.14509805 0.15686275 0.16078432]\n",
      "   [0.16862746 0.16862746 0.17254902]\n",
      "   [0.17254902 0.18431373 0.1882353 ]]]\n",
      "\n",
      "\n",
      " ...\n",
      "\n",
      "\n",
      " [[[0.13333334 0.10588235 0.09411765]\n",
      "   [0.1254902  0.09803922 0.09019608]\n",
      "   [0.1254902  0.09803922 0.09411765]\n",
      "   ...\n",
      "   [0.12941177 0.10588235 0.10196079]\n",
      "   [0.13333334 0.10588235 0.10196079]\n",
      "   [0.13333334 0.10588235 0.10196079]]\n",
      "\n",
      "  [[0.12941177 0.10196079 0.09803922]\n",
      "   [0.13333334 0.10196079 0.09803922]\n",
      "   [0.12941177 0.10196079 0.10196079]\n",
      "   ...\n",
      "   [0.13333334 0.10588235 0.10196079]\n",
      "   [0.13725491 0.10588235 0.10588235]\n",
      "   [0.14117648 0.10980392 0.10980392]]\n",
      "\n",
      "  [[0.1254902  0.10196079 0.10196079]\n",
      "   [0.1254902  0.09803922 0.09803922]\n",
      "   [0.11764706 0.09411765 0.09411765]\n",
      "   ...\n",
      "   [0.12941177 0.10588235 0.10196079]\n",
      "   [0.12941177 0.10588235 0.10588235]\n",
      "   [0.12941177 0.10196079 0.10588235]]\n",
      "\n",
      "  ...\n",
      "\n",
      "  [[0.08235294 0.06666667 0.0627451 ]\n",
      "   [0.08235294 0.0627451  0.05882353]\n",
      "   [0.08235294 0.0627451  0.05490196]\n",
      "   ...\n",
      "   [0.11372549 0.08235294 0.07450981]\n",
      "   [0.12941177 0.09019608 0.08235294]\n",
      "   [0.11764706 0.08235294 0.07450981]]\n",
      "\n",
      "  [[0.08627451 0.06666667 0.0627451 ]\n",
      "   [0.08235294 0.0627451  0.05882353]\n",
      "   [0.08235294 0.0627451  0.05490196]\n",
      "   ...\n",
      "   [0.11764706 0.08235294 0.07450981]\n",
      "   [0.1254902  0.08627451 0.07843138]\n",
      "   [0.1254902  0.08627451 0.07450981]]\n",
      "\n",
      "  [[0.08235294 0.0627451  0.05882353]\n",
      "   [0.08235294 0.0627451  0.05882353]\n",
      "   [0.08235294 0.0627451  0.05490196]\n",
      "   ...\n",
      "   [0.11764706 0.08235294 0.07058824]\n",
      "   [0.1254902  0.08627451 0.07450981]\n",
      "   [0.12156863 0.08627451 0.07058824]]]\n",
      "\n",
      "\n",
      " [[[0.2784314  0.21960784 0.18039216]\n",
      "   [0.25490198 0.20392157 0.1882353 ]\n",
      "   [0.22352941 0.21568628 0.22745098]\n",
      "   ...\n",
      "   [0.19607843 0.15686275 0.16470589]\n",
      "   [0.05882353 0.04705882 0.05882353]\n",
      "   [0.04313726 0.03137255 0.03529412]]\n",
      "\n",
      "  [[0.32941177 0.27058825 0.23921569]\n",
      "   [0.29803923 0.23921569 0.24705882]\n",
      "   [0.2627451  0.23137255 0.23921569]\n",
      "   ...\n",
      "   [0.14117648 0.10196079 0.10980392]\n",
      "   [0.04313726 0.04705882 0.0627451 ]\n",
      "   [0.03921569 0.03529412 0.04313726]]\n",
      "\n",
      "  [[0.36862746 0.29411766 0.2627451 ]\n",
      "   [0.39215687 0.30980393 0.2784314 ]\n",
      "   [0.3764706  0.30588236 0.27450982]\n",
      "   ...\n",
      "   [0.17254902 0.16470589 0.15686275]\n",
      "   [0.07058824 0.09411765 0.11372549]\n",
      "   [0.03529412 0.03137255 0.05490196]]\n",
      "\n",
      "  ...\n",
      "\n",
      "  [[0.08235294 0.07058824 0.07058824]\n",
      "   [0.07450981 0.0627451  0.0627451 ]\n",
      "   [0.07058824 0.05490196 0.05882353]\n",
      "   ...\n",
      "   [0.14509805 0.1254902  0.12941177]\n",
      "   [0.1764706  0.14901961 0.14509805]\n",
      "   [0.10588235 0.10196079 0.10196079]]\n",
      "\n",
      "  [[0.05882353 0.04705882 0.05098039]\n",
      "   [0.05490196 0.04705882 0.05098039]\n",
      "   [0.05098039 0.03921569 0.04705882]\n",
      "   ...\n",
      "   [0.12156863 0.10588235 0.10196079]\n",
      "   [0.15294118 0.13333334 0.1254902 ]\n",
      "   [0.10196079 0.11372549 0.11372549]]\n",
      "\n",
      "  [[0.05490196 0.04313726 0.05098039]\n",
      "   [0.05490196 0.04313726 0.04705882]\n",
      "   [0.04313726 0.03921569 0.04705882]\n",
      "   ...\n",
      "   [0.15294118 0.12156863 0.10980392]\n",
      "   [0.15686275 0.14509805 0.13725491]\n",
      "   [0.09803922 0.11372549 0.12156863]]]\n",
      "\n",
      "\n",
      " [[[0.05098039 0.03921569 0.03921569]\n",
      "   [0.05098039 0.03921569 0.03921569]\n",
      "   [0.04705882 0.03529412 0.03921569]\n",
      "   ...\n",
      "   [0.05882353 0.04705882 0.05098039]\n",
      "   [0.05882353 0.04705882 0.05098039]\n",
      "   [0.0627451  0.04705882 0.05098039]]\n",
      "\n",
      "  [[0.05490196 0.04313726 0.04705882]\n",
      "   [0.04705882 0.03529412 0.03529412]\n",
      "   [0.04705882 0.03529412 0.03529412]\n",
      "   ...\n",
      "   [0.05490196 0.04705882 0.05098039]\n",
      "   [0.05882353 0.04705882 0.05098039]\n",
      "   [0.0627451  0.04705882 0.05098039]]\n",
      "\n",
      "  [[0.04313726 0.03529412 0.04313726]\n",
      "   [0.04313726 0.03137255 0.03529412]\n",
      "   [0.04705882 0.03529412 0.03529412]\n",
      "   ...\n",
      "   [0.05490196 0.04705882 0.05098039]\n",
      "   [0.05882353 0.04705882 0.05098039]\n",
      "   [0.0627451  0.04705882 0.05098039]]\n",
      "\n",
      "  ...\n",
      "\n",
      "  [[0.05098039 0.03529412 0.04313726]\n",
      "   [0.04705882 0.03529412 0.03921569]\n",
      "   [0.05098039 0.03921569 0.04313726]\n",
      "   ...\n",
      "   [0.05098039 0.03921569 0.04313726]\n",
      "   [0.04705882 0.03529412 0.03921569]\n",
      "   [0.05490196 0.04313726 0.04705882]]\n",
      "\n",
      "  [[0.05490196 0.03921569 0.04313726]\n",
      "   [0.05490196 0.03921569 0.04313726]\n",
      "   [0.05490196 0.03921569 0.04313726]\n",
      "   ...\n",
      "   [0.04705882 0.03529412 0.03529412]\n",
      "   [0.04313726 0.03529412 0.03529412]\n",
      "   [0.05098039 0.04313726 0.04705882]]\n",
      "\n",
      "  [[0.05098039 0.03921569 0.03921569]\n",
      "   [0.04705882 0.03529412 0.03921569]\n",
      "   [0.04705882 0.03529412 0.04313726]\n",
      "   ...\n",
      "   [0.05098039 0.03921569 0.03921569]\n",
      "   [0.04705882 0.03921569 0.03529412]\n",
      "   [0.05098039 0.04313726 0.04313726]]]]  Type:  <class 'numpy.ndarray'>  shape:  (12630, 30, 30, 3)\n"
     ]
    }
   ],
   "source": [
    "print(\"X_test: \", X_test, \" Type: \", type(X_test), \" shape: \", X_test.shape)"
   ]
  },
  {
   "cell_type": "code",
   "execution_count": 13,
   "metadata": {
    "colab": {},
    "colab_type": "code",
    "id": "UE2TgDQ1CZGH"
   },
   "outputs": [],
   "source": [
    "first_in = 1\n",
    "second_in = 2\n",
    "class_of_prediction = model.predict_classes(X_test[first_in:second_in])[0]"
   ]
  },
  {
   "cell_type": "code",
   "execution_count": 14,
   "metadata": {
    "colab": {},
    "colab_type": "code",
    "id": "NZRccJBcCars"
   },
   "outputs": [
    {
     "data": {
      "text/plain": [
       "1"
      ]
     },
     "execution_count": 14,
     "metadata": {},
     "output_type": "execute_result"
    }
   ],
   "source": [
    "class_of_prediction"
   ]
  },
  {
   "cell_type": "code",
   "execution_count": 15,
   "metadata": {
    "colab": {},
    "colab_type": "code",
    "id": "YAGQkGjlCc4E"
   },
   "outputs": [
    {
     "name": "stdout",
     "output_type": "stream",
     "text": [
      "Birinci Sinif\n"
     ]
    }
   ],
   "source": []
  },
  {
   "cell_type": "code",
   "execution_count": null,
   "metadata": {},
   "outputs": [],
   "source": []
  }
 ],
 "metadata": {
  "colab": {
   "authorship_tag": "ABX9TyMrCjMVoa7/EoFVzlMEyKEO",
   "collapsed_sections": [],
   "include_colab_link": true,
   "name": "GTSRB.ipynb",
   "provenance": []
  },
  "kernelspec": {
   "display_name": "Python 3",
   "language": "python",
   "name": "python3"
  },
  "language_info": {
   "codemirror_mode": {
    "name": "ipython",
    "version": 3
   },
   "file_extension": ".py",
   "mimetype": "text/x-python",
   "name": "python",
   "nbconvert_exporter": "python",
   "pygments_lexer": "ipython3",
   "version": "3.8.5"
  }
 },
 "nbformat": 4,
 "nbformat_minor": 1
}
