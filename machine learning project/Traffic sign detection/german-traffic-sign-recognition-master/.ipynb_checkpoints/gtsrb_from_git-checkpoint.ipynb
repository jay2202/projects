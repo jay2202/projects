{
 "cells": [
  {
   "cell_type": "markdown",
   "metadata": {
    "colab_type": "text",
    "id": "_BSC8x6H8pbk"
   },
   "source": [
    "**German Traffic Sign Recognition Benchmark**"
   ]
  },
  {
   "cell_type": "markdown",
   "metadata": {
    "colab_type": "text",
    "id": "VFajKGwL8P70"
   },
   "source": [
    "# Dataset is gathered from Github Repository in this Notebook.\n",
    "\n",
    "The post below was followed:\n",
    "\n",
    "https://medium.com/@yuraist/how-to-upload-your-own-dataset-into-google-colab-e228727c87e9"
   ]
  },
  {
   "cell_type": "code",
   "execution_count": null,
   "metadata": {
    "colab": {
     "base_uri": "https://localhost:8080/",
     "height": 150
    },
    "colab_type": "code",
    "id": "UL12rGG07hRT",
    "outputId": "13b1bc16-aedc-4a80-d2b7-bc44554f67bb",
    "scrolled": true
   },
   "outputs": [],
   "source": [
    "!git clone https://github.com/isaimadoglu/german-traffic-sign-recognition.git"
   ]
  },
  {
   "cell_type": "code",
   "execution_count": 1,
   "metadata": {
    "colab": {},
    "colab_type": "code",
    "id": "gtTQgfiQ7s-d"
   },
   "outputs": [],
   "source": [
    "import os"
   ]
  },
  {
   "cell_type": "code",
   "execution_count": 2,
   "metadata": {
    "colab": {
     "base_uri": "https://localhost:8080/",
     "height": 33
    },
    "colab_type": "code",
    "id": "_fFx_Ch07zTj",
    "outputId": "f64e0c8d-6ba3-4279-a04f-b45525558542"
   },
   "outputs": [
    {
     "data": {
      "text/plain": [
       "['Train.csv', 'Train', 'Meta.csv', 'Test', 'Meta', 'Test.csv']"
      ]
     },
     "execution_count": 2,
     "metadata": {},
     "output_type": "execute_result"
    }
   ],
   "source": [
    "os.listdir(\"./gtsrb-dataset/\")"
   ]
  },
  {
   "cell_type": "markdown",
   "metadata": {
    "colab_type": "text",
    "id": "GBEyJwN24RD7"
   },
   "source": [
    "# **Training Part**"
   ]
  },
  {
   "cell_type": "code",
   "execution_count": null,
   "metadata": {
    "colab": {
     "base_uri": "https://localhost:8080/",
     "height": 33
    },
    "colab_type": "code",
    "id": "HgLM1P3cBImT",
    "outputId": "4631b207-1f69-4e9c-aa6d-02025c9f65a8"
   },
   "outputs": [],
   "source": [
    "try:\n",
    "  # %tensorflow_version only exists in Colab.\n",
    "  %tensorflow_version 2.x\n",
    "except Exception:\n",
    "  pass"
   ]
  },
  {
   "cell_type": "code",
   "execution_count": 3,
   "metadata": {
    "colab": {
     "base_uri": "https://localhost:8080/",
     "height": 50
    },
    "colab_type": "code",
    "id": "DAyjf_tj4b6v",
    "outputId": "100abf5f-bc49-4b4b-9b85-04c6ada9835d"
   },
   "outputs": [
    {
     "ename": "ModuleNotFoundError",
     "evalue": "No module named 'pandas'",
     "output_type": "error",
     "traceback": [
      "\u001b[0;31m---------------------------------------------------------------------------\u001b[0m",
      "\u001b[0;31mModuleNotFoundError\u001b[0m                       Traceback (most recent call last)",
      "\u001b[0;32m<ipython-input-3-9a1975b11609>\u001b[0m in \u001b[0;36m<module>\u001b[0;34m\u001b[0m\n\u001b[1;32m      4\u001b[0m \u001b[0;34m\u001b[0m\u001b[0m\n\u001b[1;32m      5\u001b[0m \u001b[0;32mimport\u001b[0m \u001b[0mnumpy\u001b[0m \u001b[0;32mas\u001b[0m \u001b[0mnp\u001b[0m\u001b[0;34m\u001b[0m\u001b[0;34m\u001b[0m\u001b[0m\n\u001b[0;32m----> 6\u001b[0;31m \u001b[0;32mimport\u001b[0m \u001b[0mpandas\u001b[0m \u001b[0;32mas\u001b[0m \u001b[0mpd\u001b[0m\u001b[0;34m\u001b[0m\u001b[0;34m\u001b[0m\u001b[0m\n\u001b[0m\u001b[1;32m      7\u001b[0m \u001b[0;34m\u001b[0m\u001b[0m\n\u001b[1;32m      8\u001b[0m \u001b[0;32mimport\u001b[0m \u001b[0mrandom\u001b[0m\u001b[0;34m\u001b[0m\u001b[0;34m\u001b[0m\u001b[0m\n",
      "\u001b[0;31mModuleNotFoundError\u001b[0m: No module named 'pandas'"
     ]
    }
   ],
   "source": [
    "import cv2\n",
    "from PIL import Image\n",
    "\n",
    "import numpy as np\n",
    "import pandas as pd\n",
    "\n",
    "import random\n",
    "\n",
    "from __future__ import absolute_import, division, print_function, unicode_literals\n",
    "import tensorflow as tf\n",
    "import tensorflow.keras as keras\n",
    "print(\"Tensorflow Version Should be 2.1: \", tf.__version__)\n",
    "print(\"Keras Version: \", keras.__version__)\n",
    "\n",
    "from tensorflow.keras.layers import Flatten, Conv2D, MaxPooling2D, Dropout, Dense\n",
    "\n",
    "from tensorflow.keras.utils import to_categorical\n",
    "\n",
    "\n",
    "from sklearn.model_selection import train_test_split"
   ]
  },
  {
   "cell_type": "code",
   "execution_count": 5,
   "metadata": {
    "colab": {
     "base_uri": "https://localhost:8080/",
     "height": 736
    },
    "colab_type": "code",
    "id": "IBj0pyvY4jjG",
    "outputId": "d273255b-c97e-45c4-d991-82c633d6c354"
   },
   "outputs": [
    {
     "name": "stdout",
     "output_type": "stream",
     "text": [
      "./gtsrb-dataset/Train/0/\n",
      "./gtsrb-dataset/Train/1/\n",
      "./gtsrb-dataset/Train/2/\n",
      "./gtsrb-dataset/Train/3/\n",
      "./gtsrb-dataset/Train/4/\n",
      "./gtsrb-dataset/Train/5/\n",
      "./gtsrb-dataset/Train/6/\n",
      "./gtsrb-dataset/Train/7/\n",
      "./gtsrb-dataset/Train/8/\n",
      "./gtsrb-dataset/Train/9/\n",
      "./gtsrb-dataset/Train/10/\n",
      "./gtsrb-dataset/Train/11/\n",
      "./gtsrb-dataset/Train/12/\n",
      "./gtsrb-dataset/Train/13/\n",
      "./gtsrb-dataset/Train/14/\n",
      "./gtsrb-dataset/Train/15/\n",
      "./gtsrb-dataset/Train/16/\n",
      "./gtsrb-dataset/Train/17/\n",
      "./gtsrb-dataset/Train/18/\n",
      "./gtsrb-dataset/Train/19/\n",
      "./gtsrb-dataset/Train/20/\n",
      "./gtsrb-dataset/Train/21/\n",
      "./gtsrb-dataset/Train/22/\n",
      "./gtsrb-dataset/Train/23/\n",
      "./gtsrb-dataset/Train/24/\n",
      "./gtsrb-dataset/Train/25/\n",
      "./gtsrb-dataset/Train/26/\n",
      "./gtsrb-dataset/Train/27/\n",
      "./gtsrb-dataset/Train/28/\n",
      "./gtsrb-dataset/Train/29/\n",
      "./gtsrb-dataset/Train/30/\n",
      "./gtsrb-dataset/Train/31/\n",
      "./gtsrb-dataset/Train/32/\n",
      "./gtsrb-dataset/Train/33/\n",
      "./gtsrb-dataset/Train/34/\n",
      "./gtsrb-dataset/Train/35/\n",
      "./gtsrb-dataset/Train/36/\n",
      "./gtsrb-dataset/Train/37/\n",
      "./gtsrb-dataset/Train/38/\n",
      "./gtsrb-dataset/Train/39/\n",
      "./gtsrb-dataset/Train/40/\n",
      "./gtsrb-dataset/Train/41/\n",
      "./gtsrb-dataset/Train/42/\n"
     ]
    },
    {
     "ename": "NameError",
     "evalue": "name 'to_categorical' is not defined",
     "output_type": "error",
     "traceback": [
      "\u001b[0;31m---------------------------------------------------------------------------\u001b[0m",
      "\u001b[0;31mNameError\u001b[0m                                 Traceback (most recent call last)",
      "\u001b[0;32m<ipython-input-5-e679d3cb107d>\u001b[0m in \u001b[0;36m<module>\u001b[0;34m\u001b[0m\n\u001b[1;32m     38\u001b[0m \u001b[0my_train\u001b[0m\u001b[0;34m=\u001b[0m\u001b[0mnp\u001b[0m\u001b[0;34m.\u001b[0m\u001b[0marray\u001b[0m\u001b[0;34m(\u001b[0m\u001b[0mlabels\u001b[0m\u001b[0;34m)\u001b[0m\u001b[0;34m\u001b[0m\u001b[0;34m\u001b[0m\u001b[0m\n\u001b[1;32m     39\u001b[0m \u001b[0;31m# from tensorflow.keras.utils import to_categorical\u001b[0m\u001b[0;34m\u001b[0m\u001b[0;34m\u001b[0m\u001b[0;34m\u001b[0m\u001b[0m\n\u001b[0;32m---> 40\u001b[0;31m \u001b[0my_train\u001b[0m \u001b[0;34m=\u001b[0m \u001b[0mto_categorical\u001b[0m\u001b[0;34m(\u001b[0m\u001b[0my_train\u001b[0m\u001b[0;34m,\u001b[0m \u001b[0mnum_classes\u001b[0m\u001b[0;34m)\u001b[0m \u001b[0;31m# Using one hot encoding\u001b[0m\u001b[0;34m\u001b[0m\u001b[0;34m\u001b[0m\u001b[0m\n\u001b[0m",
      "\u001b[0;31mNameError\u001b[0m: name 'to_categorical' is not defined"
     ]
    }
   ],
   "source": [
    "# Reading the input images and putting them into a numpy array\n",
    "data=[]\n",
    "labels=[]\n",
    "\n",
    "# image size'leri 30x30 seklinde kucultmek icin kullanacagiz.\n",
    "height = 30\n",
    "width = 30\n",
    "# RGB icin\n",
    "channels = 3\n",
    "# sinif sayisi\n",
    "num_classes = 43\n",
    "\n",
    "# neural network input katmani icin??\n",
    "n_inputs = height * width*channels\n",
    "\n",
    "# NOT ALALIM\n",
    "for i in range(num_classes) :\n",
    "    path = \"./gtsrb-dataset/Train/{0}/\".format(i)\n",
    "    print(path)\n",
    "    Class=os.listdir(path)\n",
    "    \n",
    "    # For dongusu ile i'inci class'taki fotograflarin uzerinden geciyor.\n",
    "    for a in Class:\n",
    "        try:\n",
    "            image=cv2.imread(path+a) # siradaki image'i imread ile okuyor.\n",
    "            image_from_array = Image.fromarray(image, 'RGB')  # ???? https://pillow.readthedocs.io/en/3.1.x/reference/Image.html\n",
    "            size_image = image_from_array.resize((height, width))\n",
    "            # image'lar data list'ine numpy array olarak append ediliyor.\n",
    "            data.append(np.array(size_image))\n",
    "            labels.append(i) # etiketler '0, 1, 2, 3, .. ,42' seklinde\n",
    "        except AttributeError:\n",
    "            print(\"Error! goruntuyu alamadik.\")\n",
    "            \n",
    "x_train=np.array(data)\n",
    "# Her bir piksel 0-255 araliginda deger aliyor ya. Ben bu degerleri 0-1 araligina normalize etmek istersem ne yaparim? 255'e bolerim.\n",
    "x_train= x_train/255.0\n",
    "\n",
    "y_train=np.array(labels)\n",
    "# from tensorflow.keras.utils import to_categorical\n",
    "y_train = to_categorical(y_train, num_classes) # Using one hot encoding"
   ]
  },
  {
   "cell_type": "code",
   "execution_count": null,
   "metadata": {
    "colab": {
     "base_uri": "https://localhost:8080/",
     "height": 50
    },
    "colab_type": "code",
    "id": "KwOHgV9r5Ei5",
    "outputId": "aef76011-a095-4f41-fed4-081d48b8b680"
   },
   "outputs": [],
   "source": [
    "# Split Data\n",
    "# from sklearn.model_selection import train_test_split\n",
    "# X'ler veri, Y'ler label\n",
    "X_train,X_valid,Y_train,Y_valid = train_test_split(x_train,y_train,test_size = 0.3,random_state=0) # X_valid = X_test olarak dusunebiliriz\n",
    "print(\"Train :\", X_train.shape)\n",
    "print(\"Valid :\", X_valid.shape)"
   ]
  },
  {
   "cell_type": "code",
   "execution_count": null,
   "metadata": {
    "colab": {
     "base_uri": "https://localhost:8080/",
     "height": 877
    },
    "colab_type": "code",
    "id": "tXnxu3of5Pq2",
    "outputId": "bf0b5ab9-3bbe-491f-af8a-1bf620675392"
   },
   "outputs": [],
   "source": [
    "# Show Train images \n",
    "import matplotlib.pyplot as plt\n",
    "\n",
    "def show_images(images, labels, amount):\n",
    "    for i in range(amount):\n",
    "        index = int(random.random() * len(images))\n",
    "        plt.axis('off')\n",
    "        plt.imshow(images[index])\n",
    "        plt.show()       \n",
    "        print(\"Size of this image is \" + str(images[index].shape))\n",
    "        print(\"Class of the image is \" + str(labels[index]))\n",
    "\n",
    "print(\"Train images\")\n",
    "show_images(X_train, Y_train, 3)"
   ]
  },
  {
   "cell_type": "code",
   "execution_count": null,
   "metadata": {
    "colab": {
     "base_uri": "https://localhost:8080/",
     "height": 552
    },
    "colab_type": "code",
    "id": "4pwP2oKC5UXF",
    "outputId": "1e8f2a1b-d296-4402-da2c-d4c0f6005141"
   },
   "outputs": [],
   "source": [
    "# Build Model\n",
    "model = keras.models.Sequential()\n",
    "\n",
    "model.add(Conv2D(32, kernel_size=(3,3), padding='same', activation='relu', input_shape=X_train.shape[1:])) # input layer + convolution layer\n",
    "model.add(Conv2D(32, kernel_size=(3,3), padding='same', activation='relu'))\n",
    "model.add(MaxPooling2D(pool_size=(2, 2)))\n",
    "model.add(Dropout(rate=0.25))\n",
    "\n",
    "model.add(Conv2D(64, kernel_size=(3, 3), padding='same', activation='relu'))\n",
    "model.add(Conv2D(64, kernel_size=(3, 3), padding='same', activation='relu'))\n",
    "model.add(MaxPooling2D(pool_size=(2, 2)))\n",
    "model.add(Dropout(rate=0.25))\n",
    "\n",
    "model.add(Flatten())\n",
    "model.add(Dense(256, activation='relu'))\n",
    "model.add(Dropout(rate=0.5))\n",
    "model.add(Dense(num_classes, activation='softmax')) # class'i belirleyen layer\n",
    "\n",
    "model.summary() # ???"
   ]
  },
  {
   "cell_type": "code",
   "execution_count": null,
   "metadata": {
    "colab": {},
    "colab_type": "code",
    "id": "PoAeef5g5Y2F"
   },
   "outputs": [],
   "source": [
    "# Compile Model\n",
    "model.compile(loss='categorical_crossentropy', optimizer='adam', metrics=['accuracy'])"
   ]
  },
  {
   "cell_type": "code",
   "execution_count": null,
   "metadata": {
    "colab": {
     "base_uri": "https://localhost:8080/",
     "height": 368
    },
    "colab_type": "code",
    "id": "R3VIkZ2q5bv1",
    "outputId": "e614eba2-bbe1-4e31-dff3-741f891b193f"
   },
   "outputs": [],
   "source": [
    "# Train Model\n",
    "epochs = 10\n",
    "history = model.fit(X_train, Y_train, validation_data=(X_valid, Y_valid), batch_size=32, epochs=epochs,verbose=1)"
   ]
  },
  {
   "cell_type": "code",
   "execution_count": null,
   "metadata": {
    "colab": {
     "base_uri": "https://localhost:8080/",
     "height": 590
    },
    "colab_type": "code",
    "id": "WCzl8dme5ehV",
    "outputId": "db353b64-dbea-45c2-ebd9-e7142f75e22c"
   },
   "outputs": [],
   "source": [
    "# plot the accuracy and the loss\n",
    "import matplotlib.pyplot as plt\n",
    "\n",
    "plt.figure(0)\n",
    "plt.plot(history.history['accuracy'], label='training accuracy')\n",
    "plt.plot(history.history['val_accuracy'], label='val accuracy')\n",
    "plt.title('Accuracy')\n",
    "plt.xlabel('epochs')\n",
    "plt.ylabel('accuracy')\n",
    "plt.legend()\n",
    "\n",
    "plt.figure(1)\n",
    "plt.plot(history.history['loss'], label='training loss')\n",
    "plt.plot(history.history['val_loss'], label='val loss')\n",
    "plt.title('Loss')\n",
    "plt.xlabel('epochs')\n",
    "plt.ylabel('loss')\n",
    "plt.legend()"
   ]
  },
  {
   "cell_type": "code",
   "execution_count": null,
   "metadata": {
    "colab": {
     "base_uri": "https://localhost:8080/",
     "height": 50
    },
    "colab_type": "code",
    "id": "ikVVLKCm5jaF",
    "outputId": "e90acc42-f810-4c2b-9b00-0df98fda37bd"
   },
   "outputs": [],
   "source": [
    "# Predicting Test data \n",
    "y_test=pd.read_csv(\"./german-traffic-sign-recognition/gtsrb-dataset/Test.csv\")\n",
    "labels=y_test['Path'].as_matrix()\n",
    "y_test=y_test['ClassId'].values\n",
    "\n",
    "data=[]\n",
    "\n",
    "for f in labels:\n",
    "    image=cv2.imread('./german-traffic-sign-recognition/gtsrb-dataset/Test/'+f.replace('Test/', '')) # ???\n",
    "    image_from_array = Image.fromarray(image, 'RGB')\n",
    "    size_image = image_from_array.resize((height, width))\n",
    "    data.append(np.array(size_image))\n",
    "\n",
    "X_test=np.array(data)\n",
    "X_test = X_test.astype('float32')/255  \n",
    "pred = model.predict_classes(X_test)"
   ]
  },
  {
   "cell_type": "code",
   "execution_count": null,
   "metadata": {
    "colab": {
     "base_uri": "https://localhost:8080/",
     "height": 33
    },
    "colab_type": "code",
    "id": "IJRNetrH57X4",
    "outputId": "302750ff-a0d6-4096-a941-4ca0f1e6d826"
   },
   "outputs": [],
   "source": [
    "# Accuracy with the test data\n",
    "from sklearn.metrics import accuracy_score\n",
    "accuracy_score(y_test, pred)"
   ]
  },
  {
   "cell_type": "code",
   "execution_count": null,
   "metadata": {
    "colab": {
     "base_uri": "https://localhost:8080/",
     "height": 33
    },
    "colab_type": "code",
    "id": "ajD_RLMm5-BX",
    "outputId": "2603cc59-bad5-4a59-9d8d-a11dcbfa6edc"
   },
   "outputs": [],
   "source": [
    "print(\"pred: \", pred, \" Type: \", type(pred), \" shape: \", pred.shape)"
   ]
  },
  {
   "cell_type": "code",
   "execution_count": null,
   "metadata": {
    "colab": {
     "base_uri": "https://localhost:8080/",
     "height": 1000
    },
    "colab_type": "code",
    "id": "FuQC0ReC6AQJ",
    "outputId": "274af950-cdf9-4a64-b9ab-62531020d224"
   },
   "outputs": [],
   "source": [
    "print(\"X_test: \", X_test, \" Type: \", type(X_test), \" shape: \", X_test.shape)"
   ]
  },
  {
   "cell_type": "code",
   "execution_count": null,
   "metadata": {
    "colab": {},
    "colab_type": "code",
    "id": "rp8MfMsc6D8t"
   },
   "outputs": [],
   "source": [
    "first_in = 1\n",
    "second_in = 2\n",
    "class_of_prediction = model.predict_classes(X_test[first_in:second_in])[0]"
   ]
  },
  {
   "cell_type": "code",
   "execution_count": null,
   "metadata": {
    "colab": {
     "base_uri": "https://localhost:8080/",
     "height": 33
    },
    "colab_type": "code",
    "id": "BrwoykHX6GOl",
    "outputId": "c60d3701-71f2-42b8-9bd0-fdc341861443"
   },
   "outputs": [],
   "source": [
    "class_of_prediction"
   ]
  },
  {
   "cell_type": "code",
   "execution_count": null,
   "metadata": {
    "colab": {
     "base_uri": "https://localhost:8080/",
     "height": 33
    },
    "colab_type": "code",
    "id": "k6LHkrex6IVQ",
    "outputId": "24a539f9-8fdd-4f76-fe11-2f64b6c5a805"
   },
   "outputs": [],
   "source": [
    "sinif = 1\n",
    "if(class_of_prediction == sinif):\n",
    "    print(\"Birinci Sinif\")"
   ]
  },
  {
   "cell_type": "code",
   "execution_count": null,
   "metadata": {
    "colab": {
     "base_uri": "https://localhost:8080/",
     "height": 67
    },
    "colab_type": "code",
    "id": "vTh2lva8VRK4",
    "outputId": "89e8766d-99f3-43f7-c380-218c688d8eac"
   },
   "outputs": [],
   "source": [
    "#!pip install h5py"
   ]
  },
  {
   "cell_type": "code",
   "execution_count": null,
   "metadata": {
    "colab": {},
    "colab_type": "code",
    "id": "HQydxiYUVUER"
   },
   "outputs": [],
   "source": [
    "#model.save(\"model1.h5\")"
   ]
  },
  {
   "cell_type": "code",
   "execution_count": null,
   "metadata": {
    "colab": {
     "base_uri": "https://localhost:8080/",
     "height": 33
    },
    "colab_type": "code",
    "id": "4obbPKpTVavz",
    "outputId": "8a418a4b-7fec-43cf-d025-fdd50e09b3a4"
   },
   "outputs": [],
   "source": [
    "#os.listdir()"
   ]
  },
  {
   "cell_type": "code",
   "execution_count": null,
   "metadata": {
    "colab": {},
    "colab_type": "code",
    "id": "uaECYVAkC4Sp"
   },
   "outputs": [],
   "source": [
    "#from google.colab import files\n",
    "#files.download(\"model1.h5\")"
   ]
  },
  {
   "cell_type": "code",
   "execution_count": null,
   "metadata": {
    "colab": {},
    "colab_type": "code",
    "id": "f3D2k_QXVdpY"
   },
   "outputs": [],
   "source": []
  }
 ],
 "metadata": {
  "colab": {
   "authorship_tag": "ABX9TyOuoh5rVt/HfrsgD/TJk5a6",
   "collapsed_sections": [],
   "include_colab_link": true,
   "name": "gtsrb_from_git.ipynb",
   "provenance": []
  },
  "kernelspec": {
   "display_name": "Python 3",
   "language": "python",
   "name": "python3"
  },
  "language_info": {
   "codemirror_mode": {
    "name": "ipython",
    "version": 3
   },
   "file_extension": ".py",
   "mimetype": "text/x-python",
   "name": "python",
   "nbconvert_exporter": "python",
   "pygments_lexer": "ipython3",
   "version": "3.8.5"
  }
 },
 "nbformat": 4,
 "nbformat_minor": 1
}
